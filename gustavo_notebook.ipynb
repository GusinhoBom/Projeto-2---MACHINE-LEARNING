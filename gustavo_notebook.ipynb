{
 "cells": [
  {
   "cell_type": "markdown",
   "id": "b3df66c7",
   "metadata": {},
   "source": [
    "# Esteira de Aprendizado de Máquina: Car Evaluation Dataset\n",
    "\n",
    "Este notebook implementa uma esteira completa de aprendizado de máquina utilizando o dataset [Car Evaluation](https://archive.ics.uci.edu/dataset/19/car+evaluation) do UCI Machine Learning Repository.\n",
    "\n",
    "O objetivo é prever a aceitabilidade de um carro com base em atributos como preço, manutenção, número de portas, capacidade, tamanho do porta-malas e segurança."
   ]
  },
  {
   "cell_type": "code",
   "execution_count": 115,
   "id": "f8aeeb03",
   "metadata": {},
   "outputs": [],
   "source": [
    "# Importação das bibliotecas necessárias\n",
    "import pandas as pd  # Biblioteca para manipulação de dados em DataFrames\n",
    "import numpy as np  # Biblioteca para operações numéricas\n",
    "from sklearn.model_selection import train_test_split  # Função para dividir os dados em conjuntos\n",
    "from sklearn.preprocessing import StandardScaler, OneHotEncoder  # Pré-processadores para normalização e codificação\n",
    "from sklearn.compose import ColumnTransformer  # Permite aplicar transformações em colunas específicas\n",
    "from sklearn.pipeline import Pipeline  # Permite criar um fluxo de processamento (pipeline)\n",
    "from sklearn.linear_model import LogisticRegression  # Modelo de Regressão Logística\n",
    "from sklearn.metrics import confusion_matrix, accuracy_score  # Métricas de avaliação do modelo\n",
    "import matplotlib.pyplot as plt\n",
    "import seaborn as sns"
   ]
  },
  {
   "cell_type": "code",
   "execution_count": 116,
   "id": "3f070850",
   "metadata": {},
   "outputs": [
    {
     "data": {
      "text/html": [
       "<div>\n",
       "<style scoped>\n",
       "    .dataframe tbody tr th:only-of-type {\n",
       "        vertical-align: middle;\n",
       "    }\n",
       "\n",
       "    .dataframe tbody tr th {\n",
       "        vertical-align: top;\n",
       "    }\n",
       "\n",
       "    .dataframe thead th {\n",
       "        text-align: right;\n",
       "    }\n",
       "</style>\n",
       "<table border=\"1\" class=\"dataframe\">\n",
       "  <thead>\n",
       "    <tr style=\"text-align: right;\">\n",
       "      <th></th>\n",
       "      <th>buying</th>\n",
       "      <th>maint</th>\n",
       "      <th>doors</th>\n",
       "      <th>persons</th>\n",
       "      <th>lug_boot</th>\n",
       "      <th>safety</th>\n",
       "      <th>class</th>\n",
       "    </tr>\n",
       "  </thead>\n",
       "  <tbody>\n",
       "    <tr>\n",
       "      <th>0</th>\n",
       "      <td>vhigh</td>\n",
       "      <td>vhigh</td>\n",
       "      <td>2</td>\n",
       "      <td>2</td>\n",
       "      <td>small</td>\n",
       "      <td>low</td>\n",
       "      <td>unacc</td>\n",
       "    </tr>\n",
       "    <tr>\n",
       "      <th>1</th>\n",
       "      <td>vhigh</td>\n",
       "      <td>vhigh</td>\n",
       "      <td>2</td>\n",
       "      <td>2</td>\n",
       "      <td>small</td>\n",
       "      <td>med</td>\n",
       "      <td>unacc</td>\n",
       "    </tr>\n",
       "    <tr>\n",
       "      <th>2</th>\n",
       "      <td>vhigh</td>\n",
       "      <td>vhigh</td>\n",
       "      <td>2</td>\n",
       "      <td>2</td>\n",
       "      <td>small</td>\n",
       "      <td>high</td>\n",
       "      <td>unacc</td>\n",
       "    </tr>\n",
       "    <tr>\n",
       "      <th>3</th>\n",
       "      <td>vhigh</td>\n",
       "      <td>vhigh</td>\n",
       "      <td>2</td>\n",
       "      <td>2</td>\n",
       "      <td>med</td>\n",
       "      <td>low</td>\n",
       "      <td>unacc</td>\n",
       "    </tr>\n",
       "    <tr>\n",
       "      <th>4</th>\n",
       "      <td>vhigh</td>\n",
       "      <td>vhigh</td>\n",
       "      <td>2</td>\n",
       "      <td>2</td>\n",
       "      <td>med</td>\n",
       "      <td>med</td>\n",
       "      <td>unacc</td>\n",
       "    </tr>\n",
       "  </tbody>\n",
       "</table>\n",
       "</div>"
      ],
      "text/plain": [
       "  buying  maint doors persons lug_boot safety  class\n",
       "0  vhigh  vhigh     2       2    small    low  unacc\n",
       "1  vhigh  vhigh     2       2    small    med  unacc\n",
       "2  vhigh  vhigh     2       2    small   high  unacc\n",
       "3  vhigh  vhigh     2       2      med    low  unacc\n",
       "4  vhigh  vhigh     2       2      med    med  unacc"
      ]
     },
     "execution_count": 116,
     "metadata": {},
     "output_type": "execute_result"
    }
   ],
   "source": [
    "# Carregamento do dataset Car Evaluation\n",
    "url = \"https://archive.ics.uci.edu/ml/machine-learning-databases/car/car.data\"  # URL do dataset\n",
    "columns = [\"buying\", \"maint\", \"doors\", \"persons\", \"lug_boot\", \"safety\", \"class\"]  # Nomes das colunas\n",
    "df = pd.read_csv(url, names=columns)  # Lê o arquivo CSV e atribui os nomes das colunas\n",
    "df.head()  # Exibe as primeiras linhas do DataFrame"
   ]
  },
  {
   "cell_type": "markdown",
   "id": "84bf90ba",
   "metadata": {},
   "source": [
    "## Estatísticas descritivas gerais da base escolhida"
   ]
  },
  {
   "cell_type": "code",
   "execution_count": 117,
   "id": "98c7f40b",
   "metadata": {},
   "outputs": [
    {
     "data": {
      "text/html": [
       "<div>\n",
       "<style scoped>\n",
       "    .dataframe tbody tr th:only-of-type {\n",
       "        vertical-align: middle;\n",
       "    }\n",
       "\n",
       "    .dataframe tbody tr th {\n",
       "        vertical-align: top;\n",
       "    }\n",
       "\n",
       "    .dataframe thead th {\n",
       "        text-align: right;\n",
       "    }\n",
       "</style>\n",
       "<table border=\"1\" class=\"dataframe\">\n",
       "  <thead>\n",
       "    <tr style=\"text-align: right;\">\n",
       "      <th></th>\n",
       "      <th>buying</th>\n",
       "      <th>maint</th>\n",
       "      <th>doors</th>\n",
       "      <th>persons</th>\n",
       "      <th>lug_boot</th>\n",
       "      <th>safety</th>\n",
       "      <th>class</th>\n",
       "    </tr>\n",
       "  </thead>\n",
       "  <tbody>\n",
       "    <tr>\n",
       "      <th>count</th>\n",
       "      <td>1728</td>\n",
       "      <td>1728</td>\n",
       "      <td>1728</td>\n",
       "      <td>1728</td>\n",
       "      <td>1728</td>\n",
       "      <td>1728</td>\n",
       "      <td>1728</td>\n",
       "    </tr>\n",
       "    <tr>\n",
       "      <th>unique</th>\n",
       "      <td>4</td>\n",
       "      <td>4</td>\n",
       "      <td>4</td>\n",
       "      <td>3</td>\n",
       "      <td>3</td>\n",
       "      <td>3</td>\n",
       "      <td>4</td>\n",
       "    </tr>\n",
       "    <tr>\n",
       "      <th>top</th>\n",
       "      <td>vhigh</td>\n",
       "      <td>vhigh</td>\n",
       "      <td>2</td>\n",
       "      <td>2</td>\n",
       "      <td>small</td>\n",
       "      <td>low</td>\n",
       "      <td>unacc</td>\n",
       "    </tr>\n",
       "    <tr>\n",
       "      <th>freq</th>\n",
       "      <td>432</td>\n",
       "      <td>432</td>\n",
       "      <td>432</td>\n",
       "      <td>576</td>\n",
       "      <td>576</td>\n",
       "      <td>576</td>\n",
       "      <td>1210</td>\n",
       "    </tr>\n",
       "  </tbody>\n",
       "</table>\n",
       "</div>"
      ],
      "text/plain": [
       "       buying  maint doors persons lug_boot safety  class\n",
       "count    1728   1728  1728    1728     1728   1728   1728\n",
       "unique      4      4     4       3        3      3      4\n",
       "top     vhigh  vhigh     2       2    small    low  unacc\n",
       "freq      432    432   432     576      576    576   1210"
      ]
     },
     "execution_count": 117,
     "metadata": {},
     "output_type": "execute_result"
    }
   ],
   "source": [
    "# Estatísticas descritivas (para variáveis categóricas, mostramos contagem de valores)\n",
    "df.describe(include='all')  # Mostra estatísticas descritivas para todas as colunas, inclusive categóricas"
   ]
  },
  {
   "cell_type": "code",
   "execution_count": 118,
   "id": "936038bb",
   "metadata": {},
   "outputs": [
    {
     "name": "stdout",
     "output_type": "stream",
     "text": [
      "Proporção de cada classe no target ('class'):\n",
      "class\n",
      "unacc    0.700231\n",
      "acc      0.222222\n",
      "good     0.039931\n",
      "vgood    0.037616\n",
      "Name: proportion, dtype: float64\n"
     ]
    }
   ],
   "source": [
    "# Métrica de balanceamento das classes (proporção de cada classe)\n",
    "print(\"Proporção de cada classe no target ('class'):\")\n",
    "print(df['class'].value_counts(normalize=True))"
   ]
  },
  {
   "cell_type": "markdown",
   "id": "484fc6ba",
   "metadata": {},
   "source": [
    "## Transformação em coluna: Agrupamento de categorias raras em 'doors'"
   ]
  },
  {
   "cell_type": "code",
   "execution_count": 119,
   "id": "50eb9a46",
   "metadata": {},
   "outputs": [
    {
     "data": {
      "text/plain": [
       "doors\n",
       "2    432\n",
       "3    432\n",
       "4    432\n",
       "5    432\n",
       "Name: count, dtype: int64"
      ]
     },
     "execution_count": 119,
     "metadata": {},
     "output_type": "execute_result"
    }
   ],
   "source": [
    "# Agrupando valores '5more' em 'doors' para '5'\n",
    "df['doors'] = df['doors'].replace('5more', '5')  # Substitui '5more' por '5' na coluna 'doors'\n",
    "df['doors'].value_counts()  # Conta a frequência de cada valor em 'doors'"
   ]
  },
  {
   "cell_type": "markdown",
   "id": "44b0c65b",
   "metadata": {},
   "source": [
    "## Transformação em linha: Remoção de linhas duplicadas (se houver)"
   ]
  },
  {
   "cell_type": "code",
   "execution_count": 120,
   "id": "94ec40ba",
   "metadata": {},
   "outputs": [
    {
     "data": {
      "text/plain": [
       "(1728, 7)"
      ]
     },
     "execution_count": 120,
     "metadata": {},
     "output_type": "execute_result"
    }
   ],
   "source": [
    "# Remoção de linhas duplicadas\n",
    "df = df.drop_duplicates()  # Remove linhas duplicadas do DataFrame\n",
    "df.shape  # Mostra o formato (número de linhas e colunas) do DataFrame após a remoção"
   ]
  },
  {
   "cell_type": "markdown",
   "id": "aa29eb89",
   "metadata": {},
   "source": [
    "## Criação dos subconjuntos: treino, validação e teste"
   ]
  },
  {
   "cell_type": "code",
   "execution_count": 121,
   "id": "3fe83bf9",
   "metadata": {},
   "outputs": [
    {
     "name": "stdout",
     "output_type": "stream",
     "text": [
      "Treino: (1036, 6)\n",
      "Validação: (346, 6)\n",
      "Teste: (346, 6)\n"
     ]
    }
   ],
   "source": [
    "# Separação em features e target\n",
    "X = df.drop(\"class\", axis=1)  # Remove a coluna 'class' para obter as features (X)\n",
    "y = df[\"class\"]  # Define a coluna 'class' como variável alvo (y)\n",
    "\n",
    "# Divisão em treino (60%), validação (20%) e teste (20%)\n",
    "X_train, X_temp, y_train, y_temp = train_test_split(X, y, test_size=0.4, random_state=42, stratify=y)  # Divide em treino e temporário\n",
    "X_val, X_test, y_val, y_test = train_test_split(X_temp, y_temp, test_size=0.5, random_state=42, stratify=y_temp)  # Divide temporário em validação e teste\n",
    "\n",
    "print(\"Treino:\", X_train.shape)  # Exibe o tamanho do conjunto de treino\n",
    "print(\"Validação:\", X_val.shape)  # Exibe o tamanho do conjunto de validação\n",
    "print(\"Teste:\", X_test.shape)  # Exibe o tamanho do conjunto de teste"
   ]
  },
  {
   "cell_type": "markdown",
   "id": "2ed68825",
   "metadata": {},
   "source": [
    "## Treinamento e avaliação de um modelo"
   ]
  },
  {
   "cell_type": "code",
   "execution_count": 122,
   "id": "9be4a8f9",
   "metadata": {},
   "outputs": [
    {
     "name": "stdout",
     "output_type": "stream",
     "text": [
      "Acurácia na validação: 0.9104046242774566\n"
     ]
    }
   ],
   "source": [
    "# Pipeline para transformar variáveis categóricas em dummies (OneHotEncoder)\n",
    "categorical_features = X.columns.tolist()  # Lista com os nomes das colunas categóricas\n",
    "preprocessor = ColumnTransformer(\n",
    "    transformers=[\n",
    "        ('cat', OneHotEncoder(handle_unknown='ignore'), categorical_features)  # Aplica OneHotEncoder em todas as colunas categóricas\n",
    "    ]\n",
    ")\n",
    "\n",
    "pipeline = Pipeline([\n",
    "    ('preprocessor', preprocessor),  # Primeiro passo: pré-processamento das features\n",
    "    ('classifier', LogisticRegression(max_iter=200))  # Segundo passo: modelo de Regressão Logística\n",
    "])\n",
    "\n",
    "# Treinamento do modelo\n",
    "pipeline.fit(X_train, y_train)  # Ajusta o pipeline aos dados de treino\n",
    "\n",
    "# Avaliação no conjunto de validação\n",
    "y_pred_val = pipeline.predict(X_val)  # Realiza predições no conjunto de validação\n",
    "acc_val = accuracy_score(y_val, y_pred_val)  # Calcula a acurácia na validação\n",
    "print(\"Acurácia na validação:\", acc_val)  # Exibe a acurácia"
   ]
  },
  {
   "cell_type": "markdown",
   "id": "ca89d655",
   "metadata": {},
   "source": [
    "## Matriz de confusão e acurácia para o modelo gerado"
   ]
  },
  {
   "cell_type": "code",
   "execution_count": 123,
   "id": "6ffe31b3",
   "metadata": {},
   "outputs": [
    {
     "name": "stdout",
     "output_type": "stream",
     "text": [
      "Matriz de confusão:\n",
      " [[ 65   1  11   0]\n",
      " [  5   7   0   2]\n",
      " [ 14   0 228   0]\n",
      " [  1   0   0  12]]\n",
      "Acurácia no teste: 0.9017341040462428\n"
     ]
    }
   ],
   "source": [
    "# Matriz de confusão e acurácia no conjunto de teste\n",
    "y_pred_test = pipeline.predict(X_test)  # Realiza predições no conjunto de teste\n",
    "cm = confusion_matrix(y_test, y_pred_test, labels=pipeline.classes_)  # Calcula a matriz de confusão\n",
    "acc_test = accuracy_score(y_test, y_pred_test)  # Calcula a acurácia no teste\n",
    "print(\"Matriz de confusão:\\n\", cm)  # Exibe a matriz de confusão\n",
    "print(\"Acurácia no teste:\", acc_test)  # Exibe a acurácia"
   ]
  },
  {
   "cell_type": "markdown",
   "id": "e47d0908",
   "metadata": {},
   "source": [
    "## Resultado de uma predição do modelo implantado"
   ]
  },
  {
   "cell_type": "code",
   "execution_count": 124,
   "id": "db1d4cb4",
   "metadata": {},
   "outputs": [
    {
     "name": "stdout",
     "output_type": "stream",
     "text": [
      "Amostra: [['vhigh' 'low' '2' 'more' 'med' 'high']]\n",
      "Classe prevista: unacc\n"
     ]
    }
   ],
   "source": [
    "# Exemplo de predição\n",
    "sample = X_test.iloc[[0]]  # Seleciona a primeira amostra do conjunto de teste\n",
    "predicted_class = pipeline.predict(sample)  # Realiza a predição para a amostra selecionada\n",
    "print(\"Amostra:\", sample.values)  # Exibe os valores da amostra\n",
    "print(\"Classe prevista:\", predicted_class[0])  # Exibe a classe prevista pelo modelo"
   ]
  },
  {
   "cell_type": "markdown",
   "id": "9614e812",
   "metadata": {},
   "source": [
    "## Visualização dos dados: Distribuição das classes"
   ]
  },
  {
   "cell_type": "code",
   "execution_count": 125,
   "id": "39e27dca",
   "metadata": {},
   "outputs": [
    {
     "data": {
      "image/png": "[encoded data removed]",
      "text/plain": [
       "<Figure size 640x480 with 1 Axes>"
      ]
     },
     "metadata": {},
     "output_type": "display_data"
    }
   ],
   "source": [
    "# Gráfico de barras para a distribuição das classes\n",
    "df['class'].value_counts().plot(kind='bar', color='skyblue')\n",
    "plt.title('Distribuição das Classes')\n",
    "plt.xlabel('Classe')\n",
    "plt.ylabel('Quantidade')\n",
    "plt.show()"
   ]
  },
  {
   "cell_type": "markdown",
   "id": "c431787e",
   "metadata": {},
   "source": [
    "## Visualização: Matriz de confusão do conjunto de teste"
   ]
  },
  {
   "cell_type": "code",
   "execution_count": 126,
   "id": "09c54c34",
   "metadata": {},
   "outputs": [
    {
     "data": {
      "image/png": "[encoded data removed]",
      "text/plain": [
       "<Figure size 600x500 with 2 Axes>"
      ]
     },
     "metadata": {},
     "output_type": "display_data"
    }
   ],
   "source": [
    "# Plotando a matriz de confusão\n",
    "plt.figure(figsize=(6, 5))\n",
    "sns.heatmap(cm, annot=True, fmt='d', cmap='Blues', \n",
    "            xticklabels=pipeline.classes_, yticklabels=pipeline.classes_)\n",
    "plt.xlabel('Classe Predita')\n",
    "plt.ylabel('Classe Real')\n",
    "plt.title('Matriz de Confusão - Teste')\n",
    "plt.show()"
   ]
  }
 ],
 "metadata": {
  "kernelspec": {
   "display_name": "Python 3",
   "language": "python",
   "name": "python3"
  },
  "language_info": {
   "codemirror_mode": {
    "name": "ipython",
    "version": 3
   },
   "file_extension": ".py",
   "mimetype": "text/x-python",
   "name": "python",
   "nbconvert_exporter": "python",
   "pygments_lexer": "ipython3",
   "version": "3.9.2"
  }
 },
 "nbformat": 4,
 "nbformat_minor": 5
}
